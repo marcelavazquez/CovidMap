{
 "cells": [
  {
   "cell_type": "code",
   "execution_count": 1,
   "metadata": {},
   "outputs": [],
   "source": [
    "import pandas as pd\n",
    "import geopandas as gp\n",
    "import descartes as descartes\n",
    "import numpy as np\n",
    "from shapely.geometry import Point\n",
    "from geopandas import GeoDataFrame"
   ]
  },
  {
   "cell_type": "markdown",
   "metadata": {},
   "source": [
    "### Analytics - Query Bimbo - Abraxas"
   ]
  },
  {
   "cell_type": "code",
   "execution_count": 2,
   "metadata": {},
   "outputs": [],
   "source": [
    "bimbo = pd.read_csv('../data/entidad_municipio.csv')"
   ]
  },
  {
   "cell_type": "code",
   "execution_count": 3,
   "metadata": {},
   "outputs": [
    {
     "data": {
      "text/html": [
       "<div>\n",
       "<style scoped>\n",
       "    .dataframe tbody tr th:only-of-type {\n",
       "        vertical-align: middle;\n",
       "    }\n",
       "\n",
       "    .dataframe tbody tr th {\n",
       "        vertical-align: top;\n",
       "    }\n",
       "\n",
       "    .dataframe thead th {\n",
       "        text-align: right;\n",
       "    }\n",
       "</style>\n",
       "<table border=\"1\" class=\"dataframe\">\n",
       "  <thead>\n",
       "    <tr style=\"text-align: right;\">\n",
       "      <th></th>\n",
       "      <th>lt_clean</th>\n",
       "      <th>id_colaborador</th>\n",
       "      <th>num_bajas</th>\n",
       "      <th>lugar_de_trabajo</th>\n",
       "      <th>Estado.unique</th>\n",
       "      <th>Municipio.unique</th>\n",
       "      <th>CVE_MUN</th>\n",
       "      <th>CVE_ENT</th>\n",
       "      <th>id</th>\n",
       "      <th>name</th>\n",
       "      <th>type</th>\n",
       "      <th>latitude</th>\n",
       "      <th>longitude</th>\n",
       "      <th>address</th>\n",
       "    </tr>\n",
       "  </thead>\n",
       "  <tbody>\n",
       "    <tr>\n",
       "      <th>797</th>\n",
       "      <td>39656</td>\n",
       "      <td>12</td>\n",
       "      <td>0.0</td>\n",
       "      <td>santa catarina</td>\n",
       "      <td>NaN</td>\n",
       "      <td>NaN</td>\n",
       "      <td>27.6648274</td>\n",
       "      <td>-81.5157535</td>\n",
       "      <td>919.0</td>\n",
       "      <td>SANTA CATARINA</td>\n",
       "      <td>CENTRO DE VENTAS</td>\n",
       "      <td>27.6648274</td>\n",
       "      <td>-81.5157535</td>\n",
       "      <td>25 DE MAYO 281 285 COL TRABAJADORES SANTA CATA...</td>\n",
       "    </tr>\n",
       "    <tr>\n",
       "      <th>943</th>\n",
       "      <td>39811</td>\n",
       "      <td>8</td>\n",
       "      <td>0.0</td>\n",
       "      <td>leon milenium</td>\n",
       "      <td>NaN</td>\n",
       "      <td>NaN</td>\n",
       "      <td>NaN</td>\n",
       "      <td>NaN</td>\n",
       "      <td>NaN</td>\n",
       "      <td>NaN</td>\n",
       "      <td>NaN</td>\n",
       "      <td>NaN</td>\n",
       "      <td>NaN</td>\n",
       "      <td>NaN</td>\n",
       "    </tr>\n",
       "    <tr>\n",
       "      <th>826</th>\n",
       "      <td>39694</td>\n",
       "      <td>26</td>\n",
       "      <td>0.0</td>\n",
       "      <td>atlacomulco</td>\n",
       "      <td>NaN</td>\n",
       "      <td>NaN</td>\n",
       "      <td>19.78892052</td>\n",
       "      <td>-99.8800455</td>\n",
       "      <td>54.0</td>\n",
       "      <td>ATLACOMULCO</td>\n",
       "      <td>CENTRO DE VENTAS</td>\n",
       "      <td>19.78892052</td>\n",
       "      <td>-99.8800455</td>\n",
       "      <td>MAXIMINO MONTIEL OLMOS LT 1 MZ 18A PARQUE INDU...</td>\n",
       "    </tr>\n",
       "    <tr>\n",
       "      <th>335</th>\n",
       "      <td>2142</td>\n",
       "      <td>46</td>\n",
       "      <td>0.0</td>\n",
       "      <td>valle de bravo</td>\n",
       "      <td>['ESTADO DE MÉXICO']</td>\n",
       "      <td>['Valle de Bravo']</td>\n",
       "      <td>112</td>\n",
       "      <td>15</td>\n",
       "      <td>1080.0</td>\n",
       "      <td>VALLE DE BRAVO</td>\n",
       "      <td>CENTRO DE VENTAS INTERMEDIO</td>\n",
       "      <td>19.2016719</td>\n",
       "      <td>-100.1358646</td>\n",
       "      <td>CALLE BENITO JUAREZ COLONIA CALVARIO VALLE DE ...</td>\n",
       "    </tr>\n",
       "    <tr>\n",
       "      <th>549</th>\n",
       "      <td>2571</td>\n",
       "      <td>60</td>\n",
       "      <td>0.0</td>\n",
       "      <td>tecate</td>\n",
       "      <td>['BAJA CALIFORNIA NORTE' nan]</td>\n",
       "      <td>['Tecate' nan]</td>\n",
       "      <td>3</td>\n",
       "      <td>2</td>\n",
       "      <td>981.0</td>\n",
       "      <td>TECATE</td>\n",
       "      <td>CENTRO DE VENTAS</td>\n",
       "      <td>32.57546927</td>\n",
       "      <td>-116.6089259</td>\n",
       "      <td>AVENIDA CORREGIDORA Y LA PAZ 1030 COL INDUSTRI...</td>\n",
       "    </tr>\n",
       "  </tbody>\n",
       "</table>\n",
       "</div>"
      ],
      "text/plain": [
       "    lt_clean  id_colaborador  num_bajas lugar_de_trabajo  \\\n",
       "797    39656              12        0.0   santa catarina   \n",
       "943    39811               8        0.0    leon milenium   \n",
       "826    39694              26        0.0      atlacomulco   \n",
       "335     2142              46        0.0   valle de bravo   \n",
       "549     2571              60        0.0           tecate   \n",
       "\n",
       "                     Estado.unique    Municipio.unique      CVE_MUN  \\\n",
       "797                            NaN                 NaN   27.6648274   \n",
       "943                            NaN                 NaN          NaN   \n",
       "826                            NaN                 NaN  19.78892052   \n",
       "335           ['ESTADO DE MÉXICO']  ['Valle de Bravo']          112   \n",
       "549  ['BAJA CALIFORNIA NORTE' nan]      ['Tecate' nan]            3   \n",
       "\n",
       "         CVE_ENT      id            name                         type  \\\n",
       "797  -81.5157535   919.0  SANTA CATARINA             CENTRO DE VENTAS   \n",
       "943          NaN     NaN             NaN                          NaN   \n",
       "826  -99.8800455    54.0     ATLACOMULCO             CENTRO DE VENTAS   \n",
       "335           15  1080.0  VALLE DE BRAVO  CENTRO DE VENTAS INTERMEDIO   \n",
       "549            2   981.0          TECATE             CENTRO DE VENTAS   \n",
       "\n",
       "        latitude     longitude  \\\n",
       "797   27.6648274   -81.5157535   \n",
       "943          NaN           NaN   \n",
       "826  19.78892052   -99.8800455   \n",
       "335   19.2016719  -100.1358646   \n",
       "549  32.57546927  -116.6089259   \n",
       "\n",
       "                                               address  \n",
       "797  25 DE MAYO 281 285 COL TRABAJADORES SANTA CATA...  \n",
       "943                                                NaN  \n",
       "826  MAXIMINO MONTIEL OLMOS LT 1 MZ 18A PARQUE INDU...  \n",
       "335  CALLE BENITO JUAREZ COLONIA CALVARIO VALLE DE ...  \n",
       "549  AVENIDA CORREGIDORA Y LA PAZ 1030 COL INDUSTRI...  "
      ]
     },
     "execution_count": 3,
     "metadata": {},
     "output_type": "execute_result"
    }
   ],
   "source": [
    "bimbo.sample(5)"
   ]
  },
  {
   "cell_type": "code",
   "execution_count": 4,
   "metadata": {},
   "outputs": [
    {
     "data": {
      "text/plain": [
       "lt_clean             object\n",
       "id_colaborador        int64\n",
       "num_bajas           float64\n",
       "lugar_de_trabajo     object\n",
       "Estado.unique        object\n",
       "Municipio.unique     object\n",
       "CVE_MUN              object\n",
       "CVE_ENT              object\n",
       "id                  float64\n",
       "name                 object\n",
       "type                 object\n",
       "latitude             object\n",
       "longitude            object\n",
       "address              object\n",
       "dtype: object"
      ]
     },
     "execution_count": 4,
     "metadata": {},
     "output_type": "execute_result"
    }
   ],
   "source": [
    "bimbo.dtypes"
   ]
  },
  {
   "cell_type": "code",
   "execution_count": 5,
   "metadata": {},
   "outputs": [],
   "source": [
    "bimbo.CVE_ENT = bimbo.CVE_ENT.astype(str)\n",
    "bimbo.CVE_MUN = bimbo.CVE_MUN.astype(str)"
   ]
  },
  {
   "cell_type": "code",
   "execution_count": 6,
   "metadata": {
    "scrolled": true
   },
   "outputs": [
    {
     "data": {
      "text/plain": [
       "(974, 14)"
      ]
     },
     "execution_count": 6,
     "metadata": {},
     "output_type": "execute_result"
    }
   ],
   "source": [
    "bimbo.shape"
   ]
  },
  {
   "cell_type": "code",
   "execution_count": 7,
   "metadata": {
    "scrolled": true
   },
   "outputs": [
    {
     "data": {
      "text/html": [
       "<div>\n",
       "<style scoped>\n",
       "    .dataframe tbody tr th:only-of-type {\n",
       "        vertical-align: middle;\n",
       "    }\n",
       "\n",
       "    .dataframe tbody tr th {\n",
       "        vertical-align: top;\n",
       "    }\n",
       "\n",
       "    .dataframe thead th {\n",
       "        text-align: right;\n",
       "    }\n",
       "</style>\n",
       "<table border=\"1\" class=\"dataframe\">\n",
       "  <thead>\n",
       "    <tr style=\"text-align: right;\">\n",
       "      <th></th>\n",
       "      <th>lt_clean</th>\n",
       "      <th>id_colaborador</th>\n",
       "      <th>num_bajas</th>\n",
       "      <th>lugar_de_trabajo</th>\n",
       "      <th>Estado.unique</th>\n",
       "      <th>Municipio.unique</th>\n",
       "      <th>CVE_MUN</th>\n",
       "      <th>CVE_ENT</th>\n",
       "      <th>id</th>\n",
       "      <th>name</th>\n",
       "      <th>type</th>\n",
       "      <th>latitude</th>\n",
       "      <th>longitude</th>\n",
       "      <th>address</th>\n",
       "    </tr>\n",
       "  </thead>\n",
       "  <tbody>\n",
       "    <tr>\n",
       "      <th>513</th>\n",
       "      <td>2480</td>\n",
       "      <td>152</td>\n",
       "      <td>0.0</td>\n",
       "      <td>victoria bimbo</td>\n",
       "      <td>['TAMAULIPAS' nan]</td>\n",
       "      <td>['Victoria' nan]</td>\n",
       "      <td>40</td>\n",
       "      <td>28</td>\n",
       "      <td>NaN</td>\n",
       "      <td>NaN</td>\n",
       "      <td>NaN</td>\n",
       "      <td>NaN</td>\n",
       "      <td>NaN</td>\n",
       "      <td>NaN</td>\n",
       "    </tr>\n",
       "    <tr>\n",
       "      <th>428</th>\n",
       "      <td>2352</td>\n",
       "      <td>145</td>\n",
       "      <td>0.0</td>\n",
       "      <td>cordoba</td>\n",
       "      <td>['VERACRUZ' nan]</td>\n",
       "      <td>['Cordoba' nan]</td>\n",
       "      <td>45</td>\n",
       "      <td>30</td>\n",
       "      <td>228.0</td>\n",
       "      <td>CORDOBA</td>\n",
       "      <td>CENTRO DE VENTAS</td>\n",
       "      <td>18.875378</td>\n",
       "      <td>-96.9558787</td>\n",
       "      <td>Boulevard General Antonio Portas esq Calle sin...</td>\n",
       "    </tr>\n",
       "  </tbody>\n",
       "</table>\n",
       "</div>"
      ],
      "text/plain": [
       "    lt_clean  id_colaborador  num_bajas lugar_de_trabajo       Estado.unique  \\\n",
       "513     2480             152        0.0   victoria bimbo  ['TAMAULIPAS' nan]   \n",
       "428     2352             145        0.0          cordoba    ['VERACRUZ' nan]   \n",
       "\n",
       "     Municipio.unique CVE_MUN CVE_ENT     id     name              type  \\\n",
       "513  ['Victoria' nan]      40      28    NaN      NaN               NaN   \n",
       "428   ['Cordoba' nan]      45      30  228.0  CORDOBA  CENTRO DE VENTAS   \n",
       "\n",
       "      latitude    longitude                                            address  \n",
       "513        NaN          NaN                                                NaN  \n",
       "428  18.875378  -96.9558787  Boulevard General Antonio Portas esq Calle sin...  "
      ]
     },
     "execution_count": 7,
     "metadata": {},
     "output_type": "execute_result"
    }
   ],
   "source": [
    "bimbo.sample(2)"
   ]
  },
  {
   "cell_type": "code",
   "execution_count": 8,
   "metadata": {},
   "outputs": [],
   "source": [
    "# # longitud\n",
    "# bimbo['CVE_ENT'] = bimbo['CVE_ENT'].replace(['bm_atitalaquia',\n",
    "#                                              'blm_merida',\n",
    "#                                              'blm_cuautitlan barcel',\n",
    "#                                              'blm_guadalajara',\n",
    "#                                              'barcel tlajomulco',\n",
    "#                                              'eag_toluca la corona',\n",
    "#                                              'rm_cancun',\n",
    "#                                              'eag_guadalajara la corona',\n",
    "#                                              'reynosa qnet',\n",
    "#                                              '-102.3482009',\n",
    "#                                              '-88.31008102',\n",
    "#                                              '-110.298521',\n",
    "#                                              '-86.94894923',\n",
    "#                                              '-101.4753924',\n",
    "#                                              '-91.7707144',\n",
    "#                                              '-104.3642149',\n",
    "#                                              '-99.45961667'],\n",
    "#                                             ['13',\n",
    "#                                              '31',\n",
    "#                                              '15',\n",
    "#                                              '14',\n",
    "#                                              '14',\n",
    "#                                              '15',\n",
    "#                                              '23',\n",
    "#                                              '14',\n",
    "#                                              '28',\n",
    "#                                              '16',\n",
    "#                                              '23',\n",
    "#                                              '3',\n",
    "#                                              '23',\n",
    "#                                              '5',\n",
    "#                                              '4',\n",
    "#                                              '14',\n",
    "#                                              '12'])\n",
    "# # Latitud\n",
    "# bimbo['CVE_MUN'] = bimbo['CVE_MUN'].replace(['bm_atitalaquia',\n",
    "#                                              'blm_merida',\n",
    "#                                              'blm_cuautitlan barcel',\n",
    "#                                              'blm_guadalajara',\n",
    "#                                              'barcel tlajomulco',\n",
    "#                                              'eag_toluca la corona',\n",
    "#                                              'rm_cancun',\n",
    "#                                              'eag_guadalajara la corona',\n",
    "#                                              'reynosa qnet',\n",
    "#                                              '19.0738265',\n",
    "#                                              '18.51810585',\n",
    "#                                              '24.12208172',\n",
    "#                                              '20.5103889',\n",
    "#                                              '26.93320841',\n",
    "#                                              '18.66057533',\n",
    "#                                              '19.7499177',\n",
    "#                                              '17.48992222'],\n",
    "#                                             ['10',\n",
    "#                                              '50',\n",
    "#                                              '24',\n",
    "#                                              '39',\n",
    "#                                              '97',\n",
    "#                                              '106',\n",
    "#                                              '5',\n",
    "#                                              '39',\n",
    "#                                              '32',\n",
    "#                                              '6',\n",
    "#                                              '4',\n",
    "#                                              '3',\n",
    "#                                              '1',\n",
    "#                                              '18',\n",
    "#                                              '3',\n",
    "#                                              '15',\n",
    "#                                              '29'])\n"
   ]
  },
  {
   "cell_type": "code",
   "execution_count": 9,
   "metadata": {},
   "outputs": [],
   "source": [
    "# no = ['blm_laguna','moldex',\n",
    "#        'rm_san luis potosi ricolino',\n",
    "#        'oficina central nacional operaciones',\n",
    "#        'oficina central operativa metro',\n",
    "#        'oficina central nacional comercial',\n",
    "#        'oficina central comercial metro',\n",
    "#        'oficina central comercial occidente',\n",
    "#        'oficina central comercial norte',\n",
    "#        'oficina central comercial sureste',\n",
    "#        'oficina central comercial noroeste', 'rm_golfo', '-102.3139772',\n",
    "#        '-100.4106781', '-98.12419489', '-97.960347', '-103.396363',\n",
    "#        '-117.0280768', '-90.73884899', '-94.56734964', '-108.0927642',\n",
    "#        '-101.9694524', '-103.3480648', '-112.266625', '-101.1884106',\n",
    "#        '-99.10240833', '-99.0759938', '-86.87496767', '-92.11147359',\n",
    "#        '-96.9558787', '-98.91425556', '-109.6780906', '-89.2717724',\n",
    "#        '-104.6193976', '-98.6083', '-99.0767213', '-95.53534121',\n",
    "#        '-101.4043512', '-109.457561', '-103.4225207', '-107.4706438',\n",
    "#        '-113.5117914', '-96.3488756', '-95.802', '-107.5990223',\n",
    "#        '-81.5157535', '-93.89067492', '-106.4146752', '-105.0834194',\n",
    "#        '-98.46343', '-99.59239092', '-98.3954487', '-99.1898515',\n",
    "#        '-97.39981244', '-100.1488939', '-99.1585', '-99.18057222',\n",
    "#        '-94.91612745', '-94.91578', '0', '-93.20726944', '-100.6493722',\n",
    "#        '-109.5800278', '-99.8800455', '-112.1215554', '-90.5089322',\n",
    "#        '-107.9025468', '-103.4869823', '-109.9049042', '-94.52221773',\n",
    "#        '-103.743162', '-106.874297', '-99.17991667', '-99.16975556',\n",
    "#        '-107.4282459', '-106.0772219', '-102.5326319', '-105.4804681',\n",
    "#        '-116.6084367', '-102.8535657', '-103.3467951', '-100.2132946',\n",
    "#        '-108.473733', '-110.9312769', '-97.74581454', '-99.53330556',\n",
    "#        '-98.89786944', '-95.07514254', '-99.0888529', '-102.0520711',\n",
    "#        '-102.2028826', '-98.97424286', '-104.3345834', '-97.04100243',\n",
    "#        '-97.53820397', '-100.624927', '-94.45007104', '-101.2158309',\n",
    "#        '-99.21251667', '-110.9352324', '-96.78106226', '-102.7741114',\n",
    "#        '-97.13688532', '-98.77225606', '-105.6983069', '-100.5294515',\n",
    "#        '-98.0519654', '-87.055197', '-97.41117156', '-98.15718138',\n",
    "#        '-98.30427913', '-92.96908317', '-114.7116355', '-92.65758902',\n",
    "#        '-99.97638975', '-100.880117', '-101.0153254', '-96.70616762',\n",
    "#        '-99.04760278', '-100.2273986', '-99.22625', '-92.30497112',\n",
    "#        '-97.4225402', '-102.7966154', '-104.8478641', '-97.37364971',\n",
    "#        '-114.0330557', '-99.55208685', '-103.459017', '-98.38506946',\n",
    "#        '-96.13537601', '-93.19082158', '-102.0539146', '-88.23098048',\n",
    "#        '-105.2280817', '-89.67211824', '-96.86056706', '-103.8767024',\n",
    "#        '-100.2942176', '-97.69027833', '-101.8196929', '-96.4942895',\n",
    "#        '-100.1358646', '-100.38', 'oficina central nacional',\n",
    "#        'ofn central nacional servicios']"
   ]
  },
  {
   "cell_type": "code",
   "execution_count": 10,
   "metadata": {},
   "outputs": [],
   "source": [
    "# bimbo = bimbo[~bimbo['CVE_ENT'].isin(no)]\n",
    "# bimbo = bimbo[~bimbo['CVE_MUN'].isin(no)]"
   ]
  },
  {
   "cell_type": "code",
   "execution_count": 11,
   "metadata": {},
   "outputs": [
    {
     "data": {
      "text/plain": [
       "(974, 14)"
      ]
     },
     "execution_count": 11,
     "metadata": {},
     "output_type": "execute_result"
    }
   ],
   "source": [
    "bimbo.shape"
   ]
  },
  {
   "cell_type": "code",
   "execution_count": 12,
   "metadata": {
    "scrolled": true
   },
   "outputs": [
    {
     "data": {
      "text/plain": [
       "0"
      ]
     },
     "execution_count": 12,
     "metadata": {},
     "output_type": "execute_result"
    }
   ],
   "source": [
    "bimbo['CVE_MUN'].isna().sum()"
   ]
  },
  {
   "cell_type": "code",
   "execution_count": 13,
   "metadata": {},
   "outputs": [
    {
     "data": {
      "text/plain": [
       "array(['2', '3', '53', '40', 'nan', '6', '1', '120', '46', '4', '111',\n",
       "       '13', '108', '41', '54', 'moldex', '28', '196', '116', '50', '18',\n",
       "       'bm_atitalaquia', '30', '12', 'blm_laguna',\n",
       "       'rm_san luis potosi ricolino', 'blm_merida',\n",
       "       'blm_cuautitlan barcel', 'blm_guadalajara', 'barcel tlajomulco',\n",
       "       '15', 'eag_toluca la corona', '20', '98', '8',\n",
       "       'oficina central nacional operaciones',\n",
       "       'oficina central operativa metro', '55', '5', '47', '208', '113',\n",
       "       '16', '59', '99', '45', '39', '79', '29', '68', '78', '89', '87',\n",
       "       '22', '43', '49', '19', '175', '9', '48', '60', '90', '63', '192',\n",
       "       '84', '56', '52', '34', '14', '17', 'rm_cancun', '51', '37', '32',\n",
       "       '25', '21', '11', '7', '24', '38', '36', '26', '44', '10', '57',\n",
       "       '106', '72', '67', '86', '486', '136', '319', '31', '27', '144',\n",
       "       '76', '156', '94', '174', '186', '100', '103', '102', '71', '198',\n",
       "       '109', '133', '112', '114', '517', '164',\n",
       "       'oficina central nacional comercial',\n",
       "       'oficina central comercial metro',\n",
       "       'oficina central comercial occidente',\n",
       "       'oficina central comercial norte',\n",
       "       'oficina central comercial sureste',\n",
       "       'oficina central comercial noroeste', 'rm_golfo', '62', '231',\n",
       "       '75', '23', '82', '405', '124', '80', '472', '101', '83', '122',\n",
       "       '21.88941816', '19.89658851', '19.41366198', '19.929312',\n",
       "       '20.73607305', '32.47298067', '18.61266221', '17.99345734',\n",
       "       '25.47456852', '21.32968497', '20.5924843', '27.33718889',\n",
       "       '20.543698', '19.40030389', '19.637264', '21.17240061',\n",
       "       '16.20850733', '18.875378', '18.748475', '29.81370927',\n",
       "       '20.19420607', '17.48992222', '24.04428625', '17.53941',\n",
       "       '19.4409706', '18.02407467', '24.12208172', '20.94734359',\n",
       "       '27.04897722', '20.64530577', '29.0284535', '31.34208259',\n",
       "       '18.44820142', '18.36906', '27.97233491', '27.6648274',\n",
       "       '16.23692648', '23.27370053', '24.88633994', '19.7181',\n",
       "       '18.95538441', '21.15294453', '17.5997831', '20.96632127',\n",
       "       '18.9200813', '19.49421944', '18.62183056', '17.93757206',\n",
       "       '17.93735', '0', '18.24786667', '18.34055278', '31.33248056',\n",
       "       '19.0738265', '19.78892052', '19.7499177', '30.72360205',\n",
       "       '19.8120355', '30.4223137', '19.68634234', '27.51580094',\n",
       "       '18.66057533', '18.14011356', '19.20370888', '20.5103889',\n",
       "       '28.38767574', '19.65287778', '18.89830556', '24.7959031',\n",
       "       '18.51810585', '28.6933839', '20.52313575', '28.21178239',\n",
       "       '31.87857852', '23.2017885', '20.57828505', '25.70300104',\n",
       "       '25.56696337', '27.95179105', '17.82919593', '18.35785',\n",
       "       '19.31048333', '16.53013803', '19.3222882', '20.35828152',\n",
       "       '17.95425226', '22.72197295', '19.1322552', '20.07436099',\n",
       "       '25.8268774', '23.687931', '18.1170057', '26.93320841',\n",
       "       '19.6838531', '19.51948333', '31.27723667', '17.15094622',\n",
       "       '20.31760794', '18.83842487', '20.08273755', '26.92629199',\n",
       "       '28.69178402', '16.3381475', '20.668032', '20.50883311',\n",
       "       '19.08013029', '26.06071106', '17.97982193', '32.46265749',\n",
       "       '16.73049363', '20.42014651', '22.0544566', '22.1389398',\n",
       "       '16.96933868', '19.55742222', '25.8750519', '19.38546944',\n",
       "       '14.87855526', '18.47032425', '20.7747967', '21.47158175',\n",
       "       '19.82183433', '27.96913613', '19.28693382', '25.56204676',\n",
       "       '20.07036664', '18.12355206', '16.76601812', '19.37150235',\n",
       "       '20.68680381', '20.70936068', '20.93524053', '19.49969462',\n",
       "       '18.9142569', '19.45036889', '17.24762495', '21.03709592',\n",
       "       '19.8766239', '18.762614', '19.2016719', '21.011',\n",
       "       'oficina central nacional', 'ofn central nacional servicios'],\n",
       "      dtype=object)"
      ]
     },
     "execution_count": 13,
     "metadata": {},
     "output_type": "execute_result"
    }
   ],
   "source": [
    "bimbo['CVE_MUN'].unique()"
   ]
  },
  {
   "cell_type": "code",
   "execution_count": 14,
   "metadata": {},
   "outputs": [
    {
     "data": {
      "text/plain": [
       "0"
      ]
     },
     "execution_count": 14,
     "metadata": {},
     "output_type": "execute_result"
    }
   ],
   "source": [
    "bimbo['CVE_ENT'].isna().sum()"
   ]
  },
  {
   "cell_type": "code",
   "execution_count": 30,
   "metadata": {},
   "outputs": [
    {
     "name": "stdout",
     "output_type": "stream",
     "text": [
      "Quito los NaN y me quedan 508 lugares de trabajo con clave de entidad y municipio\n"
     ]
    }
   ],
   "source": [
    "cuantos = 974-466\n",
    "print(f'Quito los NaN y me quedan {cuantos} lugares de trabajo con clave de entidad y municipio')"
   ]
  },
  {
   "cell_type": "code",
   "execution_count": 31,
   "metadata": {},
   "outputs": [],
   "source": [
    "bimbo = bimbo[bimbo['CVE_MUN'].notna()].reset_index(drop=True)"
   ]
  },
  {
   "cell_type": "code",
   "execution_count": 32,
   "metadata": {},
   "outputs": [
    {
     "data": {
      "text/plain": [
       "(974, 14)"
      ]
     },
     "execution_count": 32,
     "metadata": {},
     "output_type": "execute_result"
    }
   ],
   "source": [
    "bimbo.shape"
   ]
  },
  {
   "cell_type": "markdown",
   "metadata": {},
   "source": [
    "# 508 Lugares de trabajo con CVE_ENT y CVE_MUN"
   ]
  },
  {
   "cell_type": "code",
   "execution_count": 19,
   "metadata": {},
   "outputs": [],
   "source": [
    "# bimbo.CVE_ENT = bimbo.CVE_ENT.astype(str)\n",
    "# bimbo.CVE_MUN = bimbo.CVE_MUN.astype(str)"
   ]
  },
  {
   "cell_type": "code",
   "execution_count": 33,
   "metadata": {},
   "outputs": [],
   "source": [
    "# Relleno con ceros para matchear despues con el mapa\n",
    "bimbo[\"CVE_ENT\"] = bimbo['CVE_ENT'].str.zfill(2)\n",
    "bimbo[\"CVE_MUN\"] = bimbo['CVE_MUN'].str.zfill(3)"
   ]
  },
  {
   "cell_type": "code",
   "execution_count": 34,
   "metadata": {},
   "outputs": [],
   "source": [
    "bimbo = bimbo[['lt_clean','lugar_de_trabajo','id_colaborador','num_bajas','CVE_MUN','CVE_ENT']]"
   ]
  },
  {
   "cell_type": "code",
   "execution_count": 40,
   "metadata": {},
   "outputs": [
    {
     "data": {
      "text/html": [
       "<div>\n",
       "<style scoped>\n",
       "    .dataframe tbody tr th:only-of-type {\n",
       "        vertical-align: middle;\n",
       "    }\n",
       "\n",
       "    .dataframe tbody tr th {\n",
       "        vertical-align: top;\n",
       "    }\n",
       "\n",
       "    .dataframe thead th {\n",
       "        text-align: right;\n",
       "    }\n",
       "</style>\n",
       "<table border=\"1\" class=\"dataframe\">\n",
       "  <thead>\n",
       "    <tr style=\"text-align: right;\">\n",
       "      <th></th>\n",
       "      <th>lt_clean</th>\n",
       "      <th>lugar_de_trabajo</th>\n",
       "      <th>id_colaborador</th>\n",
       "      <th>num_bajas</th>\n",
       "      <th>CVE_MUN</th>\n",
       "      <th>CVE_ENT</th>\n",
       "    </tr>\n",
       "  </thead>\n",
       "  <tbody>\n",
       "    <tr>\n",
       "      <th>723</th>\n",
       "      <td>3436</td>\n",
       "      <td>paseo montejo yuc</td>\n",
       "      <td>7</td>\n",
       "      <td>0.0</td>\n",
       "      <td>050</td>\n",
       "      <td>31</td>\n",
       "    </tr>\n",
       "    <tr>\n",
       "      <th>74</th>\n",
       "      <td>12620</td>\n",
       "      <td>blm_salamanca</td>\n",
       "      <td>20</td>\n",
       "      <td>0.0</td>\n",
       "      <td>012</td>\n",
       "      <td>11</td>\n",
       "    </tr>\n",
       "    <tr>\n",
       "      <th>914</th>\n",
       "      <td>39781</td>\n",
       "      <td>tepatitlan</td>\n",
       "      <td>4</td>\n",
       "      <td>0.0</td>\n",
       "      <td>20.7747967</td>\n",
       "      <td>-102.7966154</td>\n",
       "    </tr>\n",
       "    <tr>\n",
       "      <th>898</th>\n",
       "      <td>39766</td>\n",
       "      <td>sabinas</td>\n",
       "      <td>5</td>\n",
       "      <td>0.0</td>\n",
       "      <td>nan</td>\n",
       "      <td>nan</td>\n",
       "    </tr>\n",
       "    <tr>\n",
       "      <th>549</th>\n",
       "      <td>2571</td>\n",
       "      <td>tecate</td>\n",
       "      <td>60</td>\n",
       "      <td>0.0</td>\n",
       "      <td>003</td>\n",
       "      <td>02</td>\n",
       "    </tr>\n",
       "    <tr>\n",
       "      <th>688</th>\n",
       "      <td>3280</td>\n",
       "      <td>centro sur jal</td>\n",
       "      <td>6</td>\n",
       "      <td>0.0</td>\n",
       "      <td>099</td>\n",
       "      <td>14</td>\n",
       "    </tr>\n",
       "    <tr>\n",
       "      <th>73</th>\n",
       "      <td>12617</td>\n",
       "      <td>blm_santa rosalia</td>\n",
       "      <td>2</td>\n",
       "      <td>0.0</td>\n",
       "      <td>004</td>\n",
       "      <td>03</td>\n",
       "    </tr>\n",
       "    <tr>\n",
       "      <th>830</th>\n",
       "      <td>39698</td>\n",
       "      <td>cardenas</td>\n",
       "      <td>14</td>\n",
       "      <td>0.0</td>\n",
       "      <td>nan</td>\n",
       "      <td>nan</td>\n",
       "    </tr>\n",
       "    <tr>\n",
       "      <th>598</th>\n",
       "      <td>3066</td>\n",
       "      <td>plaza satelite</td>\n",
       "      <td>11</td>\n",
       "      <td>0.0</td>\n",
       "      <td>060</td>\n",
       "      <td>15</td>\n",
       "    </tr>\n",
       "    <tr>\n",
       "      <th>518</th>\n",
       "      <td>2496</td>\n",
       "      <td>la fe</td>\n",
       "      <td>177</td>\n",
       "      <td>0.0</td>\n",
       "      <td>024</td>\n",
       "      <td>19</td>\n",
       "    </tr>\n",
       "  </tbody>\n",
       "</table>\n",
       "</div>"
      ],
      "text/plain": [
       "    lt_clean   lugar_de_trabajo  id_colaborador  num_bajas     CVE_MUN  \\\n",
       "723     3436  paseo montejo yuc               7        0.0         050   \n",
       "74     12620      blm_salamanca              20        0.0         012   \n",
       "914    39781         tepatitlan               4        0.0  20.7747967   \n",
       "898    39766            sabinas               5        0.0         nan   \n",
       "549     2571             tecate              60        0.0         003   \n",
       "688     3280     centro sur jal               6        0.0         099   \n",
       "73     12617  blm_santa rosalia               2        0.0         004   \n",
       "830    39698           cardenas              14        0.0         nan   \n",
       "598     3066     plaza satelite              11        0.0         060   \n",
       "518     2496              la fe             177        0.0         024   \n",
       "\n",
       "          CVE_ENT  \n",
       "723            31  \n",
       "74             11  \n",
       "914  -102.7966154  \n",
       "898           nan  \n",
       "549            02  \n",
       "688            14  \n",
       "73             03  \n",
       "830           nan  \n",
       "598            15  \n",
       "518            19  "
      ]
     },
     "execution_count": 40,
     "metadata": {},
     "output_type": "execute_result"
    }
   ],
   "source": [
    "bimbo.sample(10)"
   ]
  },
  {
   "cell_type": "code",
   "execution_count": 41,
   "metadata": {},
   "outputs": [],
   "source": [
    "good = bimbo.groupby(['CVE_ENT','CVE_MUN']).agg({'id_colaborador':'sum','num_bajas':'sum'}).reset_index()"
   ]
  },
  {
   "cell_type": "code",
   "execution_count": 42,
   "metadata": {},
   "outputs": [],
   "source": [
    "good = good.rename(columns = {'id_colaborador': 'num_colabs'})"
   ]
  },
  {
   "cell_type": "code",
   "execution_count": 43,
   "metadata": {},
   "outputs": [
    {
     "data": {
      "text/html": [
       "<div>\n",
       "<style scoped>\n",
       "    .dataframe tbody tr th:only-of-type {\n",
       "        vertical-align: middle;\n",
       "    }\n",
       "\n",
       "    .dataframe tbody tr th {\n",
       "        vertical-align: top;\n",
       "    }\n",
       "\n",
       "    .dataframe thead th {\n",
       "        text-align: right;\n",
       "    }\n",
       "</style>\n",
       "<table border=\"1\" class=\"dataframe\">\n",
       "  <thead>\n",
       "    <tr style=\"text-align: right;\">\n",
       "      <th></th>\n",
       "      <th>CVE_ENT</th>\n",
       "      <th>CVE_MUN</th>\n",
       "      <th>num_colabs</th>\n",
       "      <th>num_bajas</th>\n",
       "    </tr>\n",
       "  </thead>\n",
       "  <tbody>\n",
       "    <tr>\n",
       "      <th>94</th>\n",
       "      <td>-96.4942895</td>\n",
       "      <td>18.762614</td>\n",
       "      <td>10</td>\n",
       "      <td>0.0</td>\n",
       "    </tr>\n",
       "    <tr>\n",
       "      <th>154</th>\n",
       "      <td>05</td>\n",
       "      <td>010</td>\n",
       "      <td>32</td>\n",
       "      <td>0.0</td>\n",
       "    </tr>\n",
       "    <tr>\n",
       "      <th>360</th>\n",
       "      <td>28</td>\n",
       "      <td>026</td>\n",
       "      <td>153</td>\n",
       "      <td>0.0</td>\n",
       "    </tr>\n",
       "  </tbody>\n",
       "</table>\n",
       "</div>"
      ],
      "text/plain": [
       "         CVE_ENT    CVE_MUN  num_colabs  num_bajas\n",
       "94   -96.4942895  18.762614          10        0.0\n",
       "154           05        010          32        0.0\n",
       "360           28        026         153        0.0"
      ]
     },
     "execution_count": 43,
     "metadata": {},
     "output_type": "execute_result"
    }
   ],
   "source": [
    "good.sample(3)"
   ]
  },
  {
   "cell_type": "code",
   "execution_count": 44,
   "metadata": {
    "scrolled": true
   },
   "outputs": [
    {
     "data": {
      "text/plain": [
       "CVE_ENT        object\n",
       "CVE_MUN        object\n",
       "num_colabs      int64\n",
       "num_bajas     float64\n",
       "dtype: object"
      ]
     },
     "execution_count": 44,
     "metadata": {},
     "output_type": "execute_result"
    }
   ],
   "source": [
    "good.dtypes"
   ]
  },
  {
   "cell_type": "markdown",
   "metadata": {},
   "source": [
    "# SHP File"
   ]
  },
  {
   "cell_type": "code",
   "execution_count": 45,
   "metadata": {},
   "outputs": [],
   "source": [
    "poligonos = gp.read_file(\"../data/poligonos/conjunto_de_datos/areas_geoestadisticas_municipales.shp\",encoding='utf-8')"
   ]
  },
  {
   "cell_type": "code",
   "execution_count": 46,
   "metadata": {},
   "outputs": [
    {
     "data": {
      "text/html": [
       "<div>\n",
       "<style scoped>\n",
       "    .dataframe tbody tr th:only-of-type {\n",
       "        vertical-align: middle;\n",
       "    }\n",
       "\n",
       "    .dataframe tbody tr th {\n",
       "        vertical-align: top;\n",
       "    }\n",
       "\n",
       "    .dataframe thead th {\n",
       "        text-align: right;\n",
       "    }\n",
       "</style>\n",
       "<table border=\"1\" class=\"dataframe\">\n",
       "  <thead>\n",
       "    <tr style=\"text-align: right;\">\n",
       "      <th></th>\n",
       "      <th>CVE_ENT</th>\n",
       "      <th>CVE_MUN</th>\n",
       "      <th>NOM_MUN</th>\n",
       "      <th>geometry</th>\n",
       "    </tr>\n",
       "  </thead>\n",
       "  <tbody>\n",
       "    <tr>\n",
       "      <th>127</th>\n",
       "      <td>07</td>\n",
       "      <td>002</td>\n",
       "      <td>Acala</td>\n",
       "      <td>POLYGON ((3481051.914 551271.364, 3481393.870 ...</td>\n",
       "    </tr>\n",
       "    <tr>\n",
       "      <th>1231</th>\n",
       "      <td>20</td>\n",
       "      <td>304</td>\n",
       "      <td>San Pedro Coxcaltepec Cántaros</td>\n",
       "      <td>POLYGON ((3013077.817 625446.860, 3013170.769 ...</td>\n",
       "    </tr>\n",
       "    <tr>\n",
       "      <th>2173</th>\n",
       "      <td>31</td>\n",
       "      <td>089</td>\n",
       "      <td>Ticul</td>\n",
       "      <td>POLYGON ((3795494.499 997595.965, 3795514.074 ...</td>\n",
       "    </tr>\n",
       "    <tr>\n",
       "      <th>961</th>\n",
       "      <td>20</td>\n",
       "      <td>030</td>\n",
       "      <td>El Espinal</td>\n",
       "      <td>POLYGON ((3250955.918 520093.844, 3250507.970 ...</td>\n",
       "    </tr>\n",
       "    <tr>\n",
       "      <th>2125</th>\n",
       "      <td>30</td>\n",
       "      <td>062</td>\n",
       "      <td>Chocamán</td>\n",
       "      <td>POLYGON ((3021673.141 791329.230, 3021689.594 ...</td>\n",
       "    </tr>\n",
       "  </tbody>\n",
       "</table>\n",
       "</div>"
      ],
      "text/plain": [
       "     CVE_ENT CVE_MUN                         NOM_MUN  \\\n",
       "127       07     002                           Acala   \n",
       "1231      20     304  San Pedro Coxcaltepec Cántaros   \n",
       "2173      31     089                           Ticul   \n",
       "961       20     030                      El Espinal   \n",
       "2125      30     062                        Chocamán   \n",
       "\n",
       "                                               geometry  \n",
       "127   POLYGON ((3481051.914 551271.364, 3481393.870 ...  \n",
       "1231  POLYGON ((3013077.817 625446.860, 3013170.769 ...  \n",
       "2173  POLYGON ((3795494.499 997595.965, 3795514.074 ...  \n",
       "961   POLYGON ((3250955.918 520093.844, 3250507.970 ...  \n",
       "2125  POLYGON ((3021673.141 791329.230, 3021689.594 ...  "
      ]
     },
     "execution_count": 46,
     "metadata": {},
     "output_type": "execute_result"
    }
   ],
   "source": [
    "poligonos.sample(5)"
   ]
  },
  {
   "cell_type": "code",
   "execution_count": 47,
   "metadata": {
    "scrolled": false
   },
   "outputs": [
    {
     "data": {
      "text/plain": [
       "geopandas.geodataframe.GeoDataFrame"
      ]
     },
     "execution_count": 47,
     "metadata": {},
     "output_type": "execute_result"
    }
   ],
   "source": [
    "type(poligonos)"
   ]
  },
  {
   "cell_type": "markdown",
   "metadata": {},
   "source": [
    "## LAT y LONG"
   ]
  },
  {
   "cell_type": "code",
   "execution_count": 48,
   "metadata": {
    "scrolled": true
   },
   "outputs": [],
   "source": [
    "coord = pd.read_csv('../data/Lat_Long_Ent_Mun.csv',index_col=0)"
   ]
  },
  {
   "cell_type": "code",
   "execution_count": 49,
   "metadata": {},
   "outputs": [],
   "source": [
    "coord = coord.rename(columns = {'Cve_Ent':'CVE_ENT',\n",
    "                      'Cve_Mun':'CVE_MUN',\n",
    "                      'Lat_Decimal':'LAT',\n",
    "                      'Lon_Decimal': 'LON'})"
   ]
  },
  {
   "cell_type": "code",
   "execution_count": 50,
   "metadata": {},
   "outputs": [],
   "source": [
    "coord.CVE_ENT = coord.CVE_ENT.astype(str)\n",
    "coord.CVE_MUN = coord.CVE_MUN.astype(str)"
   ]
  },
  {
   "cell_type": "code",
   "execution_count": 51,
   "metadata": {},
   "outputs": [],
   "source": [
    "# Relleno con ceros para matchear despues con el mapa\n",
    "coord[\"CVE_ENT\"] = coord['CVE_ENT'].str.zfill(2)\n",
    "coord[\"CVE_MUN\"] = coord['CVE_MUN'].str.zfill(3)"
   ]
  },
  {
   "cell_type": "code",
   "execution_count": 52,
   "metadata": {},
   "outputs": [],
   "source": [
    "coord = coord[['CVE_ENT','CVE_MUN','LAT','LON']]"
   ]
  },
  {
   "cell_type": "code",
   "execution_count": 53,
   "metadata": {},
   "outputs": [
    {
     "data": {
      "text/html": [
       "<div>\n",
       "<style scoped>\n",
       "    .dataframe tbody tr th:only-of-type {\n",
       "        vertical-align: middle;\n",
       "    }\n",
       "\n",
       "    .dataframe tbody tr th {\n",
       "        vertical-align: top;\n",
       "    }\n",
       "\n",
       "    .dataframe thead th {\n",
       "        text-align: right;\n",
       "    }\n",
       "</style>\n",
       "<table border=\"1\" class=\"dataframe\">\n",
       "  <thead>\n",
       "    <tr style=\"text-align: right;\">\n",
       "      <th></th>\n",
       "      <th>CVE_ENT</th>\n",
       "      <th>CVE_MUN</th>\n",
       "      <th>LAT</th>\n",
       "      <th>LON</th>\n",
       "    </tr>\n",
       "  </thead>\n",
       "  <tbody>\n",
       "    <tr>\n",
       "      <th>0</th>\n",
       "      <td>01</td>\n",
       "      <td>001</td>\n",
       "      <td>21.831189</td>\n",
       "      <td>-102.282474</td>\n",
       "    </tr>\n",
       "    <tr>\n",
       "      <th>1</th>\n",
       "      <td>01</td>\n",
       "      <td>002</td>\n",
       "      <td>22.140375</td>\n",
       "      <td>-102.041058</td>\n",
       "    </tr>\n",
       "    <tr>\n",
       "      <th>2</th>\n",
       "      <td>01</td>\n",
       "      <td>003</td>\n",
       "      <td>21.880951</td>\n",
       "      <td>-102.715365</td>\n",
       "    </tr>\n",
       "    <tr>\n",
       "      <th>3</th>\n",
       "      <td>01</td>\n",
       "      <td>004</td>\n",
       "      <td>22.358699</td>\n",
       "      <td>-102.280826</td>\n",
       "    </tr>\n",
       "    <tr>\n",
       "      <th>4</th>\n",
       "      <td>01</td>\n",
       "      <td>005</td>\n",
       "      <td>21.947068</td>\n",
       "      <td>-102.386755</td>\n",
       "    </tr>\n",
       "    <tr>\n",
       "      <th>...</th>\n",
       "      <td>...</td>\n",
       "      <td>...</td>\n",
       "      <td>...</td>\n",
       "      <td>...</td>\n",
       "    </tr>\n",
       "    <tr>\n",
       "      <th>2464</th>\n",
       "      <td>32</td>\n",
       "      <td>054</td>\n",
       "      <td>22.391297</td>\n",
       "      <td>-101.740136</td>\n",
       "    </tr>\n",
       "    <tr>\n",
       "      <th>2465</th>\n",
       "      <td>32</td>\n",
       "      <td>055</td>\n",
       "      <td>22.297291</td>\n",
       "      <td>-102.865748</td>\n",
       "    </tr>\n",
       "    <tr>\n",
       "      <th>2466</th>\n",
       "      <td>32</td>\n",
       "      <td>056</td>\n",
       "      <td>22.738338</td>\n",
       "      <td>-102.678156</td>\n",
       "    </tr>\n",
       "    <tr>\n",
       "      <th>2467</th>\n",
       "      <td>32</td>\n",
       "      <td>057</td>\n",
       "      <td>22.752989</td>\n",
       "      <td>-102.318223</td>\n",
       "    </tr>\n",
       "    <tr>\n",
       "      <th>2468</th>\n",
       "      <td>32</td>\n",
       "      <td>058</td>\n",
       "      <td>21.514028</td>\n",
       "      <td>-103.361275</td>\n",
       "    </tr>\n",
       "  </tbody>\n",
       "</table>\n",
       "<p>2469 rows × 4 columns</p>\n",
       "</div>"
      ],
      "text/plain": [
       "     CVE_ENT CVE_MUN        LAT         LON\n",
       "0         01     001  21.831189 -102.282474\n",
       "1         01     002  22.140375 -102.041058\n",
       "2         01     003  21.880951 -102.715365\n",
       "3         01     004  22.358699 -102.280826\n",
       "4         01     005  21.947068 -102.386755\n",
       "...      ...     ...        ...         ...\n",
       "2464      32     054  22.391297 -101.740136\n",
       "2465      32     055  22.297291 -102.865748\n",
       "2466      32     056  22.738338 -102.678156\n",
       "2467      32     057  22.752989 -102.318223\n",
       "2468      32     058  21.514028 -103.361275\n",
       "\n",
       "[2469 rows x 4 columns]"
      ]
     },
     "execution_count": 53,
     "metadata": {},
     "output_type": "execute_result"
    }
   ],
   "source": [
    "coord"
   ]
  },
  {
   "cell_type": "code",
   "execution_count": 54,
   "metadata": {},
   "outputs": [],
   "source": [
    "coord = coord.assign(loc=coord[['LAT', 'LON']].values.tolist())"
   ]
  },
  {
   "cell_type": "code",
   "execution_count": 55,
   "metadata": {},
   "outputs": [],
   "source": [
    "coord['loc'] = coord['loc'].astype(str)"
   ]
  },
  {
   "cell_type": "markdown",
   "metadata": {},
   "source": [
    "#### Agregar base con columnas de defuncion, confirmados y población total por covid por municipio en México"
   ]
  },
  {
   "cell_type": "code",
   "execution_count": 56,
   "metadata": {},
   "outputs": [],
   "source": [
    "Y = pd.read_pickle('../data/mexico_datos.pkl')"
   ]
  },
  {
   "cell_type": "code",
   "execution_count": 57,
   "metadata": {},
   "outputs": [],
   "source": [
    "Y.CVE_ENT = Y.CVE_ENT.astype(str)\n",
    "Y.CVE_MUN = Y.CVE_MUN.astype(str)"
   ]
  },
  {
   "cell_type": "code",
   "execution_count": 58,
   "metadata": {},
   "outputs": [],
   "source": [
    "# Relleno con ceros para que matchee despues con el mapa\n",
    "Y[\"CVE_ENT\"] = Y['CVE_ENT'].str.zfill(2)\n",
    "Y[\"CVE_MUN\"] = Y['CVE_MUN'].str.zfill(3)"
   ]
  },
  {
   "cell_type": "code",
   "execution_count": 59,
   "metadata": {
    "scrolled": true
   },
   "outputs": [
    {
     "data": {
      "text/html": [
       "<div>\n",
       "<style scoped>\n",
       "    .dataframe tbody tr th:only-of-type {\n",
       "        vertical-align: middle;\n",
       "    }\n",
       "\n",
       "    .dataframe tbody tr th {\n",
       "        vertical-align: top;\n",
       "    }\n",
       "\n",
       "    .dataframe thead th {\n",
       "        text-align: right;\n",
       "    }\n",
       "</style>\n",
       "<table border=\"1\" class=\"dataframe\">\n",
       "  <thead>\n",
       "    <tr style=\"text-align: right;\">\n",
       "      <th></th>\n",
       "      <th>CVE_ENT</th>\n",
       "      <th>CVE_MUN</th>\n",
       "      <th>pobtot</th>\n",
       "      <th>CLASIFICACION_FINAL</th>\n",
       "      <th>FECHA_DEF</th>\n",
       "    </tr>\n",
       "  </thead>\n",
       "  <tbody>\n",
       "    <tr>\n",
       "      <th>0</th>\n",
       "      <td>01</td>\n",
       "      <td>001</td>\n",
       "      <td>877190</td>\n",
       "      <td>13937</td>\n",
       "      <td>1209</td>\n",
       "    </tr>\n",
       "    <tr>\n",
       "      <th>1</th>\n",
       "      <td>01</td>\n",
       "      <td>002</td>\n",
       "      <td>46464</td>\n",
       "      <td>305</td>\n",
       "      <td>16</td>\n",
       "    </tr>\n",
       "    <tr>\n",
       "      <th>2</th>\n",
       "      <td>01</td>\n",
       "      <td>003</td>\n",
       "      <td>56048</td>\n",
       "      <td>521</td>\n",
       "      <td>15</td>\n",
       "    </tr>\n",
       "    <tr>\n",
       "      <th>3</th>\n",
       "      <td>01</td>\n",
       "      <td>004</td>\n",
       "      <td>15577</td>\n",
       "      <td>103</td>\n",
       "      <td>5</td>\n",
       "    </tr>\n",
       "    <tr>\n",
       "      <th>4</th>\n",
       "      <td>01</td>\n",
       "      <td>005</td>\n",
       "      <td>120405</td>\n",
       "      <td>522</td>\n",
       "      <td>35</td>\n",
       "    </tr>\n",
       "    <tr>\n",
       "      <th>...</th>\n",
       "      <td>...</td>\n",
       "      <td>...</td>\n",
       "      <td>...</td>\n",
       "      <td>...</td>\n",
       "      <td>...</td>\n",
       "    </tr>\n",
       "    <tr>\n",
       "      <th>2458</th>\n",
       "      <td>32</td>\n",
       "      <td>054</td>\n",
       "      <td>19155</td>\n",
       "      <td>73</td>\n",
       "      <td>14</td>\n",
       "    </tr>\n",
       "    <tr>\n",
       "      <th>2459</th>\n",
       "      <td>32</td>\n",
       "      <td>055</td>\n",
       "      <td>30240</td>\n",
       "      <td>310</td>\n",
       "      <td>34</td>\n",
       "    </tr>\n",
       "    <tr>\n",
       "      <th>2460</th>\n",
       "      <td>32</td>\n",
       "      <td>056</td>\n",
       "      <td>146147</td>\n",
       "      <td>5209</td>\n",
       "      <td>350</td>\n",
       "    </tr>\n",
       "    <tr>\n",
       "      <th>2461</th>\n",
       "      <td>32</td>\n",
       "      <td>057</td>\n",
       "      <td>19413</td>\n",
       "      <td>164</td>\n",
       "      <td>25</td>\n",
       "    </tr>\n",
       "    <tr>\n",
       "      <th>2462</th>\n",
       "      <td>32</td>\n",
       "      <td>058</td>\n",
       "      <td>2656</td>\n",
       "      <td>7</td>\n",
       "      <td>1</td>\n",
       "    </tr>\n",
       "  </tbody>\n",
       "</table>\n",
       "<p>2463 rows × 5 columns</p>\n",
       "</div>"
      ],
      "text/plain": [
       "     CVE_ENT CVE_MUN  pobtot  CLASIFICACION_FINAL  FECHA_DEF\n",
       "0         01     001  877190                13937       1209\n",
       "1         01     002   46464                  305         16\n",
       "2         01     003   56048                  521         15\n",
       "3         01     004   15577                  103          5\n",
       "4         01     005  120405                  522         35\n",
       "...      ...     ...     ...                  ...        ...\n",
       "2458      32     054   19155                   73         14\n",
       "2459      32     055   30240                  310         34\n",
       "2460      32     056  146147                 5209        350\n",
       "2461      32     057   19413                  164         25\n",
       "2462      32     058    2656                    7          1\n",
       "\n",
       "[2463 rows x 5 columns]"
      ]
     },
     "execution_count": 59,
     "metadata": {},
     "output_type": "execute_result"
    }
   ],
   "source": [
    "Y"
   ]
  },
  {
   "cell_type": "markdown",
   "metadata": {},
   "source": [
    "#### Columna de % de letalidad y % riesgo\n",
    "- letalidad = fallecimientos por covid/confirmados covid\n",
    "- riesgo = confirmados covid/poblacion total municipio"
   ]
  },
  {
   "cell_type": "code",
   "execution_count": 60,
   "metadata": {},
   "outputs": [],
   "source": [
    "Y['prc_letalidad'] = ((Y['FECHA_DEF']/Y['CLASIFICACION_FINAL'])*100).round(2)\n",
    "Y['prc_riesgo'] = ((Y['CLASIFICACION_FINAL']/Y['pobtot'])*100).round(2)"
   ]
  },
  {
   "cell_type": "code",
   "execution_count": 61,
   "metadata": {},
   "outputs": [
    {
     "data": {
      "text/plain": [
       "CVE_ENT                 object\n",
       "CVE_MUN                 object\n",
       "pobtot                   int32\n",
       "CLASIFICACION_FINAL      int32\n",
       "FECHA_DEF                int32\n",
       "prc_letalidad          float64\n",
       "prc_riesgo             float64\n",
       "dtype: object"
      ]
     },
     "execution_count": 61,
     "metadata": {},
     "output_type": "execute_result"
    }
   ],
   "source": [
    "Y.dtypes"
   ]
  },
  {
   "cell_type": "code",
   "execution_count": 62,
   "metadata": {},
   "outputs": [
    {
     "data": {
      "text/plain": [
       "159"
      ]
     },
     "execution_count": 62,
     "metadata": {},
     "output_type": "execute_result"
    }
   ],
   "source": [
    "Y['prc_letalidad'].isna().sum()"
   ]
  },
  {
   "cell_type": "code",
   "execution_count": 63,
   "metadata": {},
   "outputs": [],
   "source": [
    "Y = Y.fillna(0)"
   ]
  },
  {
   "cell_type": "code",
   "execution_count": 64,
   "metadata": {},
   "outputs": [],
   "source": [
    "Y ['prc_letalidad'] = Y[\"prc_letalidad\"].replace([np.inf, -np.inf], 0)\n",
    "Y ['prc_riesgo'] = Y[\"prc_riesgo\"].replace([np.inf, -np.inf], 0)"
   ]
  },
  {
   "cell_type": "markdown",
   "metadata": {},
   "source": [
    "#### Escala de % letalidad de 0.58 a 100"
   ]
  },
  {
   "cell_type": "code",
   "execution_count": 47,
   "metadata": {},
   "outputs": [],
   "source": [
    "# Y['prc_letalidad'] = Y['prc_letalidad'].astype(int)"
   ]
  },
  {
   "cell_type": "code",
   "execution_count": 48,
   "metadata": {},
   "outputs": [],
   "source": [
    "# Y.prc_letalidad = Y.prc_letalidad.astype(str)\n",
    "# Y.prc_riesgo = Y.prc_riesgo.astype(str)"
   ]
  },
  {
   "cell_type": "code",
   "execution_count": 49,
   "metadata": {},
   "outputs": [],
   "source": [
    "# Y.loc[Y['FECHA_DEF']== 0]"
   ]
  },
  {
   "cell_type": "markdown",
   "metadata": {},
   "source": [
    "### Merge con LAT,LONG, despues con defunciones y luego con info bimbo"
   ]
  },
  {
   "cell_type": "markdown",
   "metadata": {},
   "source": [
    "- merge poligonos con LAT y LONG"
   ]
  },
  {
   "cell_type": "code",
   "execution_count": 65,
   "metadata": {},
   "outputs": [],
   "source": [
    "poligonos = poligonos.merge(coord, on = ['CVE_ENT','CVE_MUN'], how = 'left')"
   ]
  },
  {
   "cell_type": "markdown",
   "metadata": {},
   "source": [
    "- merge del anterior con datos covid mexico"
   ]
  },
  {
   "cell_type": "code",
   "execution_count": 66,
   "metadata": {},
   "outputs": [],
   "source": [
    "poligonos = poligonos.merge(Y, on = [\"CVE_ENT\", \"CVE_MUN\"], how = \"left\")"
   ]
  },
  {
   "cell_type": "code",
   "execution_count": 67,
   "metadata": {},
   "outputs": [
    {
     "data": {
      "text/html": [
       "<div>\n",
       "<style scoped>\n",
       "    .dataframe tbody tr th:only-of-type {\n",
       "        vertical-align: middle;\n",
       "    }\n",
       "\n",
       "    .dataframe tbody tr th {\n",
       "        vertical-align: top;\n",
       "    }\n",
       "\n",
       "    .dataframe thead th {\n",
       "        text-align: right;\n",
       "    }\n",
       "</style>\n",
       "<table border=\"1\" class=\"dataframe\">\n",
       "  <thead>\n",
       "    <tr style=\"text-align: right;\">\n",
       "      <th></th>\n",
       "      <th>CVE_ENT</th>\n",
       "      <th>CVE_MUN</th>\n",
       "      <th>NOM_MUN</th>\n",
       "      <th>geometry</th>\n",
       "      <th>LAT</th>\n",
       "      <th>LON</th>\n",
       "      <th>loc</th>\n",
       "      <th>pobtot</th>\n",
       "      <th>CLASIFICACION_FINAL</th>\n",
       "      <th>FECHA_DEF</th>\n",
       "      <th>prc_letalidad</th>\n",
       "      <th>prc_riesgo</th>\n",
       "    </tr>\n",
       "  </thead>\n",
       "  <tbody>\n",
       "    <tr>\n",
       "      <th>0</th>\n",
       "      <td>01</td>\n",
       "      <td>002</td>\n",
       "      <td>Asientos</td>\n",
       "      <td>POLYGON ((2494680.261 1141224.506, 2494749.948...</td>\n",
       "      <td>22.140375</td>\n",
       "      <td>-102.041058</td>\n",
       "      <td>[22.14037456198347, -102.0410577644627]</td>\n",
       "      <td>46464</td>\n",
       "      <td>305</td>\n",
       "      <td>16</td>\n",
       "      <td>5.25</td>\n",
       "      <td>0.66</td>\n",
       "    </tr>\n",
       "    <tr>\n",
       "      <th>1</th>\n",
       "      <td>01</td>\n",
       "      <td>011</td>\n",
       "      <td>San Francisco de los Romo</td>\n",
       "      <td>POLYGON ((2471901.164 1118837.535, 2471903.404...</td>\n",
       "      <td>22.034357</td>\n",
       "      <td>-102.255482</td>\n",
       "      <td>[22.034356587301573, -102.2554817777778]</td>\n",
       "      <td>46454</td>\n",
       "      <td>170</td>\n",
       "      <td>17</td>\n",
       "      <td>10.00</td>\n",
       "      <td>0.37</td>\n",
       "    </tr>\n",
       "    <tr>\n",
       "      <th>2</th>\n",
       "      <td>01</td>\n",
       "      <td>007</td>\n",
       "      <td>Rincón de Romos</td>\n",
       "      <td>POLYGON ((2476760.231 1150329.046, 2476783.634...</td>\n",
       "      <td>22.216246</td>\n",
       "      <td>-102.300355</td>\n",
       "      <td>[22.21624573546513, -102.30035470348835]</td>\n",
       "      <td>53866</td>\n",
       "      <td>576</td>\n",
       "      <td>24</td>\n",
       "      <td>4.17</td>\n",
       "      <td>1.07</td>\n",
       "    </tr>\n",
       "  </tbody>\n",
       "</table>\n",
       "</div>"
      ],
      "text/plain": [
       "  CVE_ENT CVE_MUN                    NOM_MUN  \\\n",
       "0      01     002                   Asientos   \n",
       "1      01     011  San Francisco de los Romo   \n",
       "2      01     007            Rincón de Romos   \n",
       "\n",
       "                                            geometry        LAT         LON  \\\n",
       "0  POLYGON ((2494680.261 1141224.506, 2494749.948...  22.140375 -102.041058   \n",
       "1  POLYGON ((2471901.164 1118837.535, 2471903.404...  22.034357 -102.255482   \n",
       "2  POLYGON ((2476760.231 1150329.046, 2476783.634...  22.216246 -102.300355   \n",
       "\n",
       "                                        loc  pobtot  CLASIFICACION_FINAL  \\\n",
       "0   [22.14037456198347, -102.0410577644627]   46464                  305   \n",
       "1  [22.034356587301573, -102.2554817777778]   46454                  170   \n",
       "2  [22.21624573546513, -102.30035470348835]   53866                  576   \n",
       "\n",
       "   FECHA_DEF  prc_letalidad  prc_riesgo  \n",
       "0         16           5.25        0.66  \n",
       "1         17          10.00        0.37  \n",
       "2         24           4.17        1.07  "
      ]
     },
     "execution_count": 67,
     "metadata": {},
     "output_type": "execute_result"
    }
   ],
   "source": [
    "poligonos.head(3)"
   ]
  },
  {
   "cell_type": "code",
   "execution_count": 68,
   "metadata": {},
   "outputs": [
    {
     "data": {
      "text/plain": [
       "CVE_ENT                  object\n",
       "CVE_MUN                  object\n",
       "NOM_MUN                  object\n",
       "geometry               geometry\n",
       "LAT                     float64\n",
       "LON                     float64\n",
       "loc                      object\n",
       "pobtot                    int32\n",
       "CLASIFICACION_FINAL       int32\n",
       "FECHA_DEF                 int32\n",
       "prc_letalidad           float64\n",
       "prc_riesgo              float64\n",
       "dtype: object"
      ]
     },
     "execution_count": 68,
     "metadata": {},
     "output_type": "execute_result"
    }
   ],
   "source": [
    "poligonos.dtypes"
   ]
  },
  {
   "cell_type": "markdown",
   "metadata": {},
   "source": [
    "- merge del anterior con la info de bimbo"
   ]
  },
  {
   "cell_type": "code",
   "execution_count": 69,
   "metadata": {},
   "outputs": [],
   "source": [
    "df = poligonos.merge(good, on = [\"CVE_ENT\", \"CVE_MUN\"], how = \"left\")"
   ]
  },
  {
   "cell_type": "code",
   "execution_count": 70,
   "metadata": {},
   "outputs": [],
   "source": [
    "df = df.rename(columns={'FECHA_DEF':'num_def',\n",
    "                        'CLASIFICACION_FINAL':'confirmados'})"
   ]
  },
  {
   "cell_type": "code",
   "execution_count": 71,
   "metadata": {},
   "outputs": [
    {
     "data": {
      "text/html": [
       "<div>\n",
       "<style scoped>\n",
       "    .dataframe tbody tr th:only-of-type {\n",
       "        vertical-align: middle;\n",
       "    }\n",
       "\n",
       "    .dataframe tbody tr th {\n",
       "        vertical-align: top;\n",
       "    }\n",
       "\n",
       "    .dataframe thead th {\n",
       "        text-align: right;\n",
       "    }\n",
       "</style>\n",
       "<table border=\"1\" class=\"dataframe\">\n",
       "  <thead>\n",
       "    <tr style=\"text-align: right;\">\n",
       "      <th></th>\n",
       "      <th>CVE_ENT</th>\n",
       "      <th>CVE_MUN</th>\n",
       "      <th>NOM_MUN</th>\n",
       "      <th>geometry</th>\n",
       "      <th>LAT</th>\n",
       "      <th>LON</th>\n",
       "      <th>loc</th>\n",
       "      <th>pobtot</th>\n",
       "      <th>confirmados</th>\n",
       "      <th>num_def</th>\n",
       "      <th>prc_letalidad</th>\n",
       "      <th>prc_riesgo</th>\n",
       "      <th>num_colabs</th>\n",
       "      <th>num_bajas</th>\n",
       "    </tr>\n",
       "  </thead>\n",
       "  <tbody>\n",
       "    <tr>\n",
       "      <th>0</th>\n",
       "      <td>01</td>\n",
       "      <td>002</td>\n",
       "      <td>Asientos</td>\n",
       "      <td>POLYGON ((2494680.261 1141224.506, 2494749.948...</td>\n",
       "      <td>22.140375</td>\n",
       "      <td>-102.041058</td>\n",
       "      <td>[22.14037456198347, -102.0410577644627]</td>\n",
       "      <td>46464</td>\n",
       "      <td>305</td>\n",
       "      <td>16</td>\n",
       "      <td>5.25</td>\n",
       "      <td>0.66</td>\n",
       "      <td>NaN</td>\n",
       "      <td>NaN</td>\n",
       "    </tr>\n",
       "    <tr>\n",
       "      <th>1</th>\n",
       "      <td>01</td>\n",
       "      <td>011</td>\n",
       "      <td>San Francisco de los Romo</td>\n",
       "      <td>POLYGON ((2471901.164 1118837.535, 2471903.404...</td>\n",
       "      <td>22.034357</td>\n",
       "      <td>-102.255482</td>\n",
       "      <td>[22.034356587301573, -102.2554817777778]</td>\n",
       "      <td>46454</td>\n",
       "      <td>170</td>\n",
       "      <td>17</td>\n",
       "      <td>10.00</td>\n",
       "      <td>0.37</td>\n",
       "      <td>NaN</td>\n",
       "      <td>NaN</td>\n",
       "    </tr>\n",
       "    <tr>\n",
       "      <th>2</th>\n",
       "      <td>01</td>\n",
       "      <td>007</td>\n",
       "      <td>Rincón de Romos</td>\n",
       "      <td>POLYGON ((2476760.231 1150329.046, 2476783.634...</td>\n",
       "      <td>22.216246</td>\n",
       "      <td>-102.300355</td>\n",
       "      <td>[22.21624573546513, -102.30035470348835]</td>\n",
       "      <td>53866</td>\n",
       "      <td>576</td>\n",
       "      <td>24</td>\n",
       "      <td>4.17</td>\n",
       "      <td>1.07</td>\n",
       "      <td>NaN</td>\n",
       "      <td>NaN</td>\n",
       "    </tr>\n",
       "    <tr>\n",
       "      <th>3</th>\n",
       "      <td>01</td>\n",
       "      <td>008</td>\n",
       "      <td>San José de Gracia</td>\n",
       "      <td>POLYGON ((2453254.179 1144800.521, 2453326.553...</td>\n",
       "      <td>22.160685</td>\n",
       "      <td>-102.530887</td>\n",
       "      <td>[22.160685024000006, -102.53088664000002]</td>\n",
       "      <td>8896</td>\n",
       "      <td>92</td>\n",
       "      <td>3</td>\n",
       "      <td>3.26</td>\n",
       "      <td>1.03</td>\n",
       "      <td>NaN</td>\n",
       "      <td>NaN</td>\n",
       "    </tr>\n",
       "    <tr>\n",
       "      <th>4</th>\n",
       "      <td>01</td>\n",
       "      <td>005</td>\n",
       "      <td>Jesús María</td>\n",
       "      <td>POLYGON ((2466710.861 1102163.965, 2466673.583...</td>\n",
       "      <td>21.947068</td>\n",
       "      <td>-102.386755</td>\n",
       "      <td>[21.947067920127783, -102.38675468370609]</td>\n",
       "      <td>120405</td>\n",
       "      <td>522</td>\n",
       "      <td>35</td>\n",
       "      <td>6.70</td>\n",
       "      <td>0.43</td>\n",
       "      <td>NaN</td>\n",
       "      <td>NaN</td>\n",
       "    </tr>\n",
       "  </tbody>\n",
       "</table>\n",
       "</div>"
      ],
      "text/plain": [
       "  CVE_ENT CVE_MUN                    NOM_MUN  \\\n",
       "0      01     002                   Asientos   \n",
       "1      01     011  San Francisco de los Romo   \n",
       "2      01     007            Rincón de Romos   \n",
       "3      01     008         San José de Gracia   \n",
       "4      01     005                Jesús María   \n",
       "\n",
       "                                            geometry        LAT         LON  \\\n",
       "0  POLYGON ((2494680.261 1141224.506, 2494749.948...  22.140375 -102.041058   \n",
       "1  POLYGON ((2471901.164 1118837.535, 2471903.404...  22.034357 -102.255482   \n",
       "2  POLYGON ((2476760.231 1150329.046, 2476783.634...  22.216246 -102.300355   \n",
       "3  POLYGON ((2453254.179 1144800.521, 2453326.553...  22.160685 -102.530887   \n",
       "4  POLYGON ((2466710.861 1102163.965, 2466673.583...  21.947068 -102.386755   \n",
       "\n",
       "                                         loc  pobtot  confirmados  num_def  \\\n",
       "0    [22.14037456198347, -102.0410577644627]   46464          305       16   \n",
       "1   [22.034356587301573, -102.2554817777778]   46454          170       17   \n",
       "2   [22.21624573546513, -102.30035470348835]   53866          576       24   \n",
       "3  [22.160685024000006, -102.53088664000002]    8896           92        3   \n",
       "4  [21.947067920127783, -102.38675468370609]  120405          522       35   \n",
       "\n",
       "   prc_letalidad  prc_riesgo  num_colabs  num_bajas  \n",
       "0           5.25        0.66         NaN        NaN  \n",
       "1          10.00        0.37         NaN        NaN  \n",
       "2           4.17        1.07         NaN        NaN  \n",
       "3           3.26        1.03         NaN        NaN  \n",
       "4           6.70        0.43         NaN        NaN  "
      ]
     },
     "execution_count": 71,
     "metadata": {},
     "output_type": "execute_result"
    }
   ],
   "source": [
    "df.head()"
   ]
  },
  {
   "cell_type": "code",
   "execution_count": 72,
   "metadata": {},
   "outputs": [],
   "source": [
    "df['pobtot'] = df.apply(lambda x: \"{:,}\".format(x['pobtot']), axis=1)\n",
    "# df['num_def'] = df.apply(lambda x: \"{:,}\".format(x['num_def']), axis=1)"
   ]
  },
  {
   "cell_type": "code",
   "execution_count": 58,
   "metadata": {},
   "outputs": [
    {
     "data": {
      "text/html": [
       "<div>\n",
       "<style scoped>\n",
       "    .dataframe tbody tr th:only-of-type {\n",
       "        vertical-align: middle;\n",
       "    }\n",
       "\n",
       "    .dataframe tbody tr th {\n",
       "        vertical-align: top;\n",
       "    }\n",
       "\n",
       "    .dataframe thead th {\n",
       "        text-align: right;\n",
       "    }\n",
       "</style>\n",
       "<table border=\"1\" class=\"dataframe\">\n",
       "  <thead>\n",
       "    <tr style=\"text-align: right;\">\n",
       "      <th></th>\n",
       "      <th>CVE_ENT</th>\n",
       "      <th>CVE_MUN</th>\n",
       "      <th>NOM_MUN</th>\n",
       "      <th>geometry</th>\n",
       "      <th>LAT</th>\n",
       "      <th>LON</th>\n",
       "      <th>loc</th>\n",
       "      <th>pobtot</th>\n",
       "      <th>confirmados</th>\n",
       "      <th>num_def</th>\n",
       "      <th>prc_letalidad</th>\n",
       "      <th>prc_riesgo</th>\n",
       "      <th>num_colabs</th>\n",
       "      <th>num_bajas</th>\n",
       "    </tr>\n",
       "  </thead>\n",
       "  <tbody>\n",
       "    <tr>\n",
       "      <th>0</th>\n",
       "      <td>01</td>\n",
       "      <td>002</td>\n",
       "      <td>Asientos</td>\n",
       "      <td>POLYGON ((-102.05189 22.29144, -102.05121 22.2...</td>\n",
       "      <td>22.140375</td>\n",
       "      <td>-102.041058</td>\n",
       "      <td>[22.14037456198347, -102.0410577644627]</td>\n",
       "      <td>46,464</td>\n",
       "      <td>305</td>\n",
       "      <td>16</td>\n",
       "      <td>5.25</td>\n",
       "      <td>0.66</td>\n",
       "      <td>NaN</td>\n",
       "      <td>NaN</td>\n",
       "    </tr>\n",
       "    <tr>\n",
       "      <th>1</th>\n",
       "      <td>01</td>\n",
       "      <td>011</td>\n",
       "      <td>San Francisco de los Romo</td>\n",
       "      <td>POLYGON ((-102.27368 22.08798, -102.27366 22.0...</td>\n",
       "      <td>22.034357</td>\n",
       "      <td>-102.255482</td>\n",
       "      <td>[22.034356587301573, -102.2554817777778]</td>\n",
       "      <td>46,454</td>\n",
       "      <td>170</td>\n",
       "      <td>17</td>\n",
       "      <td>10.00</td>\n",
       "      <td>0.37</td>\n",
       "      <td>NaN</td>\n",
       "      <td>NaN</td>\n",
       "    </tr>\n",
       "    <tr>\n",
       "      <th>2</th>\n",
       "      <td>01</td>\n",
       "      <td>007</td>\n",
       "      <td>Rincón de Romos</td>\n",
       "      <td>POLYGON ((-102.22684 22.37393, -102.22661 22.3...</td>\n",
       "      <td>22.216246</td>\n",
       "      <td>-102.300355</td>\n",
       "      <td>[22.21624573546513, -102.30035470348835]</td>\n",
       "      <td>53,866</td>\n",
       "      <td>576</td>\n",
       "      <td>24</td>\n",
       "      <td>4.17</td>\n",
       "      <td>1.07</td>\n",
       "      <td>NaN</td>\n",
       "      <td>NaN</td>\n",
       "    </tr>\n",
       "    <tr>\n",
       "      <th>3</th>\n",
       "      <td>01</td>\n",
       "      <td>008</td>\n",
       "      <td>San José de Gracia</td>\n",
       "      <td>POLYGON ((-102.45611 22.32323, -102.45537 22.3...</td>\n",
       "      <td>22.160685</td>\n",
       "      <td>-102.530887</td>\n",
       "      <td>[22.160685024000006, -102.53088664000002]</td>\n",
       "      <td>8,896</td>\n",
       "      <td>92</td>\n",
       "      <td>3</td>\n",
       "      <td>3.26</td>\n",
       "      <td>1.03</td>\n",
       "      <td>NaN</td>\n",
       "      <td>NaN</td>\n",
       "    </tr>\n",
       "    <tr>\n",
       "      <th>4</th>\n",
       "      <td>01</td>\n",
       "      <td>005</td>\n",
       "      <td>Jesús María</td>\n",
       "      <td>POLYGON ((-102.32387 21.93653, -102.32423 21.9...</td>\n",
       "      <td>21.947068</td>\n",
       "      <td>-102.386755</td>\n",
       "      <td>[21.947067920127783, -102.38675468370609]</td>\n",
       "      <td>120,405</td>\n",
       "      <td>522</td>\n",
       "      <td>35</td>\n",
       "      <td>6.70</td>\n",
       "      <td>0.43</td>\n",
       "      <td>NaN</td>\n",
       "      <td>NaN</td>\n",
       "    </tr>\n",
       "  </tbody>\n",
       "</table>\n",
       "</div>"
      ],
      "text/plain": [
       "  CVE_ENT CVE_MUN                    NOM_MUN  \\\n",
       "0      01     002                   Asientos   \n",
       "1      01     011  San Francisco de los Romo   \n",
       "2      01     007            Rincón de Romos   \n",
       "3      01     008         San José de Gracia   \n",
       "4      01     005                Jesús María   \n",
       "\n",
       "                                            geometry        LAT         LON  \\\n",
       "0  POLYGON ((-102.05189 22.29144, -102.05121 22.2...  22.140375 -102.041058   \n",
       "1  POLYGON ((-102.27368 22.08798, -102.27366 22.0...  22.034357 -102.255482   \n",
       "2  POLYGON ((-102.22684 22.37393, -102.22661 22.3...  22.216246 -102.300355   \n",
       "3  POLYGON ((-102.45611 22.32323, -102.45537 22.3...  22.160685 -102.530887   \n",
       "4  POLYGON ((-102.32387 21.93653, -102.32423 21.9...  21.947068 -102.386755   \n",
       "\n",
       "                                         loc   pobtot  confirmados  num_def  \\\n",
       "0    [22.14037456198347, -102.0410577644627]   46,464          305       16   \n",
       "1   [22.034356587301573, -102.2554817777778]   46,454          170       17   \n",
       "2   [22.21624573546513, -102.30035470348835]   53,866          576       24   \n",
       "3  [22.160685024000006, -102.53088664000002]    8,896           92        3   \n",
       "4  [21.947067920127783, -102.38675468370609]  120,405          522       35   \n",
       "\n",
       "   prc_letalidad  prc_riesgo  num_colabs  num_bajas  \n",
       "0           5.25        0.66         NaN        NaN  \n",
       "1          10.00        0.37         NaN        NaN  \n",
       "2           4.17        1.07         NaN        NaN  \n",
       "3           3.26        1.03         NaN        NaN  \n",
       "4           6.70        0.43         NaN        NaN  "
      ]
     },
     "execution_count": 58,
     "metadata": {},
     "output_type": "execute_result"
    }
   ],
   "source": [
    "df = df.to_crs(\"EPSG:4326\")\n",
    "df.head()"
   ]
  },
  {
   "cell_type": "code",
   "execution_count": 59,
   "metadata": {},
   "outputs": [
    {
     "data": {
      "text/plain": [
       "2204"
      ]
     },
     "execution_count": 59,
     "metadata": {},
     "output_type": "execute_result"
    }
   ],
   "source": [
    "df['num_colabs'].isnull().sum()"
   ]
  },
  {
   "cell_type": "code",
   "execution_count": 60,
   "metadata": {},
   "outputs": [
    {
     "data": {
      "text/plain": [
       "0"
      ]
     },
     "execution_count": 60,
     "metadata": {},
     "output_type": "execute_result"
    }
   ],
   "source": [
    "df['prc_riesgo'].isnull().sum() # faltan las que se quedaron en 0"
   ]
  },
  {
   "cell_type": "code",
   "execution_count": 61,
   "metadata": {},
   "outputs": [
    {
     "data": {
      "text/html": [
       "<div>\n",
       "<style scoped>\n",
       "    .dataframe tbody tr th:only-of-type {\n",
       "        vertical-align: middle;\n",
       "    }\n",
       "\n",
       "    .dataframe tbody tr th {\n",
       "        vertical-align: top;\n",
       "    }\n",
       "\n",
       "    .dataframe thead th {\n",
       "        text-align: right;\n",
       "    }\n",
       "</style>\n",
       "<table border=\"1\" class=\"dataframe\">\n",
       "  <thead>\n",
       "    <tr style=\"text-align: right;\">\n",
       "      <th></th>\n",
       "      <th>CVE_ENT</th>\n",
       "      <th>CVE_MUN</th>\n",
       "      <th>NOM_MUN</th>\n",
       "      <th>geometry</th>\n",
       "      <th>LAT</th>\n",
       "      <th>LON</th>\n",
       "      <th>loc</th>\n",
       "      <th>pobtot</th>\n",
       "      <th>confirmados</th>\n",
       "      <th>num_def</th>\n",
       "      <th>prc_letalidad</th>\n",
       "      <th>prc_riesgo</th>\n",
       "      <th>num_colabs</th>\n",
       "      <th>num_bajas</th>\n",
       "    </tr>\n",
       "  </thead>\n",
       "  <tbody>\n",
       "    <tr>\n",
       "      <th>0</th>\n",
       "      <td>01</td>\n",
       "      <td>002</td>\n",
       "      <td>Asientos</td>\n",
       "      <td>POLYGON ((-102.05189 22.29144, -102.05121 22.2...</td>\n",
       "      <td>22.140375</td>\n",
       "      <td>-102.041058</td>\n",
       "      <td>[22.14037456198347, -102.0410577644627]</td>\n",
       "      <td>46,464</td>\n",
       "      <td>305</td>\n",
       "      <td>16</td>\n",
       "      <td>5.25</td>\n",
       "      <td>0.66</td>\n",
       "      <td>N/A</td>\n",
       "      <td>N/A</td>\n",
       "    </tr>\n",
       "    <tr>\n",
       "      <th>1</th>\n",
       "      <td>01</td>\n",
       "      <td>011</td>\n",
       "      <td>San Francisco de los Romo</td>\n",
       "      <td>POLYGON ((-102.27368 22.08798, -102.27366 22.0...</td>\n",
       "      <td>22.034357</td>\n",
       "      <td>-102.255482</td>\n",
       "      <td>[22.034356587301573, -102.2554817777778]</td>\n",
       "      <td>46,454</td>\n",
       "      <td>170</td>\n",
       "      <td>17</td>\n",
       "      <td>10.00</td>\n",
       "      <td>0.37</td>\n",
       "      <td>N/A</td>\n",
       "      <td>N/A</td>\n",
       "    </tr>\n",
       "    <tr>\n",
       "      <th>2</th>\n",
       "      <td>01</td>\n",
       "      <td>007</td>\n",
       "      <td>Rincón de Romos</td>\n",
       "      <td>POLYGON ((-102.22684 22.37393, -102.22661 22.3...</td>\n",
       "      <td>22.216246</td>\n",
       "      <td>-102.300355</td>\n",
       "      <td>[22.21624573546513, -102.30035470348835]</td>\n",
       "      <td>53,866</td>\n",
       "      <td>576</td>\n",
       "      <td>24</td>\n",
       "      <td>4.17</td>\n",
       "      <td>1.07</td>\n",
       "      <td>N/A</td>\n",
       "      <td>N/A</td>\n",
       "    </tr>\n",
       "    <tr>\n",
       "      <th>3</th>\n",
       "      <td>01</td>\n",
       "      <td>008</td>\n",
       "      <td>San José de Gracia</td>\n",
       "      <td>POLYGON ((-102.45611 22.32323, -102.45537 22.3...</td>\n",
       "      <td>22.160685</td>\n",
       "      <td>-102.530887</td>\n",
       "      <td>[22.160685024000006, -102.53088664000002]</td>\n",
       "      <td>8,896</td>\n",
       "      <td>92</td>\n",
       "      <td>3</td>\n",
       "      <td>3.26</td>\n",
       "      <td>1.03</td>\n",
       "      <td>N/A</td>\n",
       "      <td>N/A</td>\n",
       "    </tr>\n",
       "    <tr>\n",
       "      <th>4</th>\n",
       "      <td>01</td>\n",
       "      <td>005</td>\n",
       "      <td>Jesús María</td>\n",
       "      <td>POLYGON ((-102.32387 21.93653, -102.32423 21.9...</td>\n",
       "      <td>21.947068</td>\n",
       "      <td>-102.386755</td>\n",
       "      <td>[21.947067920127783, -102.38675468370609]</td>\n",
       "      <td>120,405</td>\n",
       "      <td>522</td>\n",
       "      <td>35</td>\n",
       "      <td>6.70</td>\n",
       "      <td>0.43</td>\n",
       "      <td>N/A</td>\n",
       "      <td>N/A</td>\n",
       "    </tr>\n",
       "    <tr>\n",
       "      <th>5</th>\n",
       "      <td>01</td>\n",
       "      <td>009</td>\n",
       "      <td>Tepezalá</td>\n",
       "      <td>POLYGON ((-102.17985 22.35353, -102.18029 22.3...</td>\n",
       "      <td>22.226426</td>\n",
       "      <td>-102.231797</td>\n",
       "      <td>[22.226426205479445, -102.23179720547944]</td>\n",
       "      <td>20,926</td>\n",
       "      <td>215</td>\n",
       "      <td>7</td>\n",
       "      <td>3.26</td>\n",
       "      <td>1.03</td>\n",
       "      <td>N/A</td>\n",
       "      <td>N/A</td>\n",
       "    </tr>\n",
       "    <tr>\n",
       "      <th>6</th>\n",
       "      <td>01</td>\n",
       "      <td>001</td>\n",
       "      <td>Aguascalientes</td>\n",
       "      <td>POLYGON ((-102.32387 21.93653, -102.32375 21.9...</td>\n",
       "      <td>21.831189</td>\n",
       "      <td>-102.282474</td>\n",
       "      <td>[21.831189376891324, -102.28247383493816]</td>\n",
       "      <td>877,190</td>\n",
       "      <td>13937</td>\n",
       "      <td>1209</td>\n",
       "      <td>8.67</td>\n",
       "      <td>1.59</td>\n",
       "      <td>588</td>\n",
       "      <td>N/A</td>\n",
       "    </tr>\n",
       "    <tr>\n",
       "      <th>7</th>\n",
       "      <td>01</td>\n",
       "      <td>006</td>\n",
       "      <td>Pabellón de Arteaga</td>\n",
       "      <td>POLYGON ((-102.27378 22.08810, -102.27415 22.0...</td>\n",
       "      <td>22.118758</td>\n",
       "      <td>-102.282648</td>\n",
       "      <td>[22.11875763176896, -102.2826480758124]</td>\n",
       "      <td>46,473</td>\n",
       "      <td>622</td>\n",
       "      <td>36</td>\n",
       "      <td>5.79</td>\n",
       "      <td>1.34</td>\n",
       "      <td>N/A</td>\n",
       "      <td>N/A</td>\n",
       "    </tr>\n",
       "    <tr>\n",
       "      <th>8</th>\n",
       "      <td>01</td>\n",
       "      <td>010</td>\n",
       "      <td>El Llano</td>\n",
       "      <td>POLYGON ((-102.02946 22.06225, -102.02702 22.0...</td>\n",
       "      <td>21.881242</td>\n",
       "      <td>-102.077864</td>\n",
       "      <td>[21.88124173706897, -102.0778640172414]</td>\n",
       "      <td>20,245</td>\n",
       "      <td>40</td>\n",
       "      <td>7</td>\n",
       "      <td>17.50</td>\n",
       "      <td>0.20</td>\n",
       "      <td>N/A</td>\n",
       "      <td>N/A</td>\n",
       "    </tr>\n",
       "    <tr>\n",
       "      <th>9</th>\n",
       "      <td>01</td>\n",
       "      <td>003</td>\n",
       "      <td>Calvillo</td>\n",
       "      <td>POLYGON ((-102.68569 22.09963, -102.69087 22.0...</td>\n",
       "      <td>21.880951</td>\n",
       "      <td>-102.715365</td>\n",
       "      <td>[21.880951098639446, -102.7153652755102]</td>\n",
       "      <td>56,048</td>\n",
       "      <td>521</td>\n",
       "      <td>15</td>\n",
       "      <td>2.88</td>\n",
       "      <td>0.93</td>\n",
       "      <td>N/A</td>\n",
       "      <td>N/A</td>\n",
       "    </tr>\n",
       "  </tbody>\n",
       "</table>\n",
       "</div>"
      ],
      "text/plain": [
       "  CVE_ENT CVE_MUN                    NOM_MUN  \\\n",
       "0      01     002                   Asientos   \n",
       "1      01     011  San Francisco de los Romo   \n",
       "2      01     007            Rincón de Romos   \n",
       "3      01     008         San José de Gracia   \n",
       "4      01     005                Jesús María   \n",
       "5      01     009                   Tepezalá   \n",
       "6      01     001             Aguascalientes   \n",
       "7      01     006        Pabellón de Arteaga   \n",
       "8      01     010                   El Llano   \n",
       "9      01     003                   Calvillo   \n",
       "\n",
       "                                            geometry        LAT         LON  \\\n",
       "0  POLYGON ((-102.05189 22.29144, -102.05121 22.2...  22.140375 -102.041058   \n",
       "1  POLYGON ((-102.27368 22.08798, -102.27366 22.0...  22.034357 -102.255482   \n",
       "2  POLYGON ((-102.22684 22.37393, -102.22661 22.3...  22.216246 -102.300355   \n",
       "3  POLYGON ((-102.45611 22.32323, -102.45537 22.3...  22.160685 -102.530887   \n",
       "4  POLYGON ((-102.32387 21.93653, -102.32423 21.9...  21.947068 -102.386755   \n",
       "5  POLYGON ((-102.17985 22.35353, -102.18029 22.3...  22.226426 -102.231797   \n",
       "6  POLYGON ((-102.32387 21.93653, -102.32375 21.9...  21.831189 -102.282474   \n",
       "7  POLYGON ((-102.27378 22.08810, -102.27415 22.0...  22.118758 -102.282648   \n",
       "8  POLYGON ((-102.02946 22.06225, -102.02702 22.0...  21.881242 -102.077864   \n",
       "9  POLYGON ((-102.68569 22.09963, -102.69087 22.0...  21.880951 -102.715365   \n",
       "\n",
       "                                         loc   pobtot  confirmados  num_def  \\\n",
       "0    [22.14037456198347, -102.0410577644627]   46,464          305       16   \n",
       "1   [22.034356587301573, -102.2554817777778]   46,454          170       17   \n",
       "2   [22.21624573546513, -102.30035470348835]   53,866          576       24   \n",
       "3  [22.160685024000006, -102.53088664000002]    8,896           92        3   \n",
       "4  [21.947067920127783, -102.38675468370609]  120,405          522       35   \n",
       "5  [22.226426205479445, -102.23179720547944]   20,926          215        7   \n",
       "6  [21.831189376891324, -102.28247383493816]  877,190        13937     1209   \n",
       "7    [22.11875763176896, -102.2826480758124]   46,473          622       36   \n",
       "8    [21.88124173706897, -102.0778640172414]   20,245           40        7   \n",
       "9   [21.880951098639446, -102.7153652755102]   56,048          521       15   \n",
       "\n",
       "   prc_letalidad  prc_riesgo num_colabs num_bajas  \n",
       "0           5.25        0.66        N/A       N/A  \n",
       "1          10.00        0.37        N/A       N/A  \n",
       "2           4.17        1.07        N/A       N/A  \n",
       "3           3.26        1.03        N/A       N/A  \n",
       "4           6.70        0.43        N/A       N/A  \n",
       "5           3.26        1.03        N/A       N/A  \n",
       "6           8.67        1.59        588       N/A  \n",
       "7           5.79        1.34        N/A       N/A  \n",
       "8          17.50        0.20        N/A       N/A  \n",
       "9           2.88        0.93        N/A       N/A  "
      ]
     },
     "execution_count": 61,
     "metadata": {},
     "output_type": "execute_result"
    }
   ],
   "source": [
    "df = df.fillna(\"N/A\")\n",
    "df['num_bajas'] = df['num_bajas'].replace([0],'N/A')\n",
    "# df['prc_riesgo'] = df['prc_riesgo'].replace([0],'N/A')\n",
    "# df['prc_letalitad'] = df['prc_letalitad'].replace([0],'N/A')\n",
    "\n",
    "\n",
    "df.head(10)"
   ]
  },
  {
   "cell_type": "code",
   "execution_count": 62,
   "metadata": {
    "scrolled": true
   },
   "outputs": [
    {
     "data": {
      "text/plain": [
       "<Geographic 2D CRS: EPSG:4326>\n",
       "Name: WGS 84\n",
       "Axis Info [ellipsoidal]:\n",
       "- Lat[north]: Geodetic latitude (degree)\n",
       "- Lon[east]: Geodetic longitude (degree)\n",
       "Area of Use:\n",
       "- name: World\n",
       "- bounds: (-180.0, -90.0, 180.0, 90.0)\n",
       "Datum: World Geodetic System 1984\n",
       "- Ellipsoid: WGS 84\n",
       "- Prime Meridian: Greenwich"
      ]
     },
     "execution_count": 62,
     "metadata": {},
     "output_type": "execute_result"
    }
   ],
   "source": [
    "df.crs"
   ]
  },
  {
   "cell_type": "code",
   "execution_count": 63,
   "metadata": {
    "scrolled": true
   },
   "outputs": [
    {
     "data": {
      "text/plain": [
       "CVE_ENT            object\n",
       "CVE_MUN            object\n",
       "NOM_MUN            object\n",
       "geometry         geometry\n",
       "LAT               float64\n",
       "LON               float64\n",
       "loc                object\n",
       "pobtot             object\n",
       "confirmados         int32\n",
       "num_def             int32\n",
       "prc_letalidad     float64\n",
       "prc_riesgo        float64\n",
       "num_colabs         object\n",
       "num_bajas          object\n",
       "dtype: object"
      ]
     },
     "execution_count": 63,
     "metadata": {},
     "output_type": "execute_result"
    }
   ],
   "source": [
    "df.dtypes"
   ]
  },
  {
   "cell_type": "code",
   "execution_count": 64,
   "metadata": {},
   "outputs": [
    {
     "data": {
      "text/html": [
       "<div>\n",
       "<style scoped>\n",
       "    .dataframe tbody tr th:only-of-type {\n",
       "        vertical-align: middle;\n",
       "    }\n",
       "\n",
       "    .dataframe tbody tr th {\n",
       "        vertical-align: top;\n",
       "    }\n",
       "\n",
       "    .dataframe thead th {\n",
       "        text-align: right;\n",
       "    }\n",
       "</style>\n",
       "<table border=\"1\" class=\"dataframe\">\n",
       "  <thead>\n",
       "    <tr style=\"text-align: right;\">\n",
       "      <th></th>\n",
       "      <th>CVE_ENT</th>\n",
       "      <th>CVE_MUN</th>\n",
       "      <th>NOM_MUN</th>\n",
       "      <th>geometry</th>\n",
       "      <th>LAT</th>\n",
       "      <th>LON</th>\n",
       "      <th>loc</th>\n",
       "      <th>pobtot</th>\n",
       "      <th>confirmados</th>\n",
       "      <th>num_def</th>\n",
       "      <th>prc_letalidad</th>\n",
       "      <th>prc_riesgo</th>\n",
       "      <th>num_colabs</th>\n",
       "      <th>num_bajas</th>\n",
       "    </tr>\n",
       "  </thead>\n",
       "  <tbody>\n",
       "    <tr>\n",
       "      <th>265</th>\n",
       "      <td>09</td>\n",
       "      <td>010</td>\n",
       "      <td>Álvaro Obregón</td>\n",
       "      <td>POLYGON ((-99.20555 19.30672, -99.20565 19.306...</td>\n",
       "      <td>19.310810</td>\n",
       "      <td>-99.271163</td>\n",
       "      <td>[19.310810375, -99.2711625]</td>\n",
       "      <td>749,982</td>\n",
       "      <td>37371</td>\n",
       "      <td>1344</td>\n",
       "      <td>3.60</td>\n",
       "      <td>4.98</td>\n",
       "      <td>18</td>\n",
       "      <td>N/A</td>\n",
       "    </tr>\n",
       "    <tr>\n",
       "      <th>719</th>\n",
       "      <td>16</td>\n",
       "      <td>003</td>\n",
       "      <td>Álvaro Obregón</td>\n",
       "      <td>POLYGON ((-101.00228 19.95236, -101.00089 19.9...</td>\n",
       "      <td>19.861804</td>\n",
       "      <td>-101.021126</td>\n",
       "      <td>[19.861804483870976, -101.02112551612908]</td>\n",
       "      <td>21,651</td>\n",
       "      <td>161</td>\n",
       "      <td>6</td>\n",
       "      <td>3.73</td>\n",
       "      <td>0.74</td>\n",
       "      <td>N/A</td>\n",
       "      <td>N/A</td>\n",
       "    </tr>\n",
       "  </tbody>\n",
       "</table>\n",
       "</div>"
      ],
      "text/plain": [
       "    CVE_ENT CVE_MUN         NOM_MUN  \\\n",
       "265      09     010  Álvaro Obregón   \n",
       "719      16     003  Álvaro Obregón   \n",
       "\n",
       "                                              geometry        LAT         LON  \\\n",
       "265  POLYGON ((-99.20555 19.30672, -99.20565 19.306...  19.310810  -99.271163   \n",
       "719  POLYGON ((-101.00228 19.95236, -101.00089 19.9...  19.861804 -101.021126   \n",
       "\n",
       "                                           loc   pobtot  confirmados  num_def  \\\n",
       "265                [19.310810375, -99.2711625]  749,982        37371     1344   \n",
       "719  [19.861804483870976, -101.02112551612908]   21,651          161        6   \n",
       "\n",
       "     prc_letalidad  prc_riesgo num_colabs num_bajas  \n",
       "265           3.60        4.98         18       N/A  \n",
       "719           3.73        0.74        N/A       N/A  "
      ]
     },
     "execution_count": 64,
     "metadata": {},
     "output_type": "execute_result"
    }
   ],
   "source": [
    "df.loc[df['NOM_MUN']=='Álvaro Obregón']"
   ]
  },
  {
   "cell_type": "code",
   "execution_count": 65,
   "metadata": {},
   "outputs": [],
   "source": [
    "df.loc[(df.CVE_ENT == '09') & (df.CVE_MUN == '010'), 'NOM_MUN'] = \"Álvaro Obregón CDMX\""
   ]
  },
  {
   "cell_type": "code",
   "execution_count": 66,
   "metadata": {},
   "outputs": [],
   "source": [
    "df['geometry']= df['geometry'].simplify(tolerance = 0.001, preserve_topology = True)"
   ]
  },
  {
   "cell_type": "code",
   "execution_count": 67,
   "metadata": {},
   "outputs": [],
   "source": [
    "df.to_file(\"../static/data/municipios_entidad.geojson\", driver='GeoJSON')"
   ]
  },
  {
   "cell_type": "code",
   "execution_count": 68,
   "metadata": {},
   "outputs": [],
   "source": [
    "df.to_file(\"../data/municipios_entidad.geojson\", driver='GeoJSON')"
   ]
  }
 ],
 "metadata": {
  "kernelspec": {
   "display_name": "Python 3",
   "language": "python",
   "name": "python3"
  },
  "language_info": {
   "codemirror_mode": {
    "name": "ipython",
    "version": 3
   },
   "file_extension": ".py",
   "mimetype": "text/x-python",
   "name": "python",
   "nbconvert_exporter": "python",
   "pygments_lexer": "ipython3",
   "version": "3.7.4"
  }
 },
 "nbformat": 4,
 "nbformat_minor": 2
}
